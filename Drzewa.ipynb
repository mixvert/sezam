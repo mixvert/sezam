{
 "cells": [
  {
   "cell_type": "markdown",
   "metadata": {},
   "source": [
    "# Drzewa\n",
    "\n",
    "Drzewo jest abstrakcjną strukturą danych, która przechowuje dane w sposób hierarchiczny. Każdy węzeł w drzewie \n",
    "ma ojca (poza korzeniem) i 0 lub więcej synów. Przykładem zastosowania drzewa może być system plików:\n",
    "\n",
    "<img id =\"rys1\" src=\"http://www.albany.edu/~csi205/gifs/tree.gif\" />\n",
    "<center>Rys. 1: System plików</center>\n",
    "\n",
    "\n",
    "Innymi przykładamo mogą być: hierarchie klas w programowaniu obiektowym, strona www zapisana w html, itp.\n",
    "\n",
    "## Drzewo jako abstrakcyjna struktura danych\n",
    "\n",
    "Podobnie jak w przypadku list, drzewa będą zbudowane z połączonych ze sobą węzłów, a węzeł przechowywać będzie pewną wartość i referencje: do ojca (parent) i synów (children)."
   ]
  },
  {
   "cell_type": "code",
   "execution_count": 1,
   "metadata": {
    "collapsed": true
   },
   "outputs": [],
   "source": [
    "class TreeNode:\n",
    "    def __init__(self, data):\n",
    "        self.data = data\n",
    "        self.parent = None\n",
    "        self.children = []\n",
    "        \n",
    "    def add_child(self, node):\n",
    "        node.parent = self\n",
    "        self.children.append(node)\n",
    "        return node\n",
    "        \n",
    "    def is_leaf(self):\n",
    "        return len(self.children) == 0"
   ]
  },
  {
   "cell_type": "markdown",
   "metadata": {},
   "source": [
    "Nasza pierwsza wersja drzewa udostępniać będzie następujące operacje elementarne:"
   ]
  },
  {
   "cell_type": "code",
   "execution_count": 3,
   "metadata": {
    "collapsed": false
   },
   "outputs": [
    {
     "name": "stdout",
     "output_type": "stream",
     "text": [
      "Game of Thrones\n",
      "Season 1\n",
      "Season 2\n"
     ]
    }
   ],
   "source": [
    "class Tree:\n",
    "    def __init__(self, root = None):\n",
    "        self._root = root\n",
    "        \n",
    "    def root(self):\n",
    "        # zwraca korzen drzewa\n",
    "        return self._root\n",
    "    \n",
    "    def print(self):\n",
    "        # Wypisuje zawartość drzewa\n",
    "        def print_node(node):\n",
    "            if node is not None:\n",
    "                print(node.data)\n",
    "                for child in node.children:\n",
    "                    print(child.data)\n",
    "                    \n",
    "        print_node(self.root())\n",
    "    \n",
    "    \n",
    "# Przyklad konstrukcji drzewa\n",
    "tree = Tree(TreeNode(\"Game of Thrones\"))\n",
    "\n",
    "s1 = tree.root().add_child(TreeNode(\"Season 1\"))\n",
    "s1.add_child(TreeNode(\"Winter Is Coming\"))\n",
    "s1.add_child(TreeNode(\"The Kingsroad\"))\n",
    "s1.add_child(TreeNode(\"Lord Snow\"))\n",
    "\n",
    "s2 = tree.root().add_child(TreeNode(\"Season 2\"))\n",
    "s2.add_child(TreeNode(\"The North Remembers\"))\n",
    "s2.add_child(TreeNode(\"The Night Lands\"))\n",
    "s2.add_child(TreeNode(\"What Is Dead May Never Die\"))\n",
    "\n",
    "tree.print()"
   ]
  },
  {
   "cell_type": "markdown",
   "metadata": {},
   "source": [
    "Jak widać, `tree.print()` nie działa poprawnie. Wypisuje tylko korzeń i jego dzieci. Zmodyfikuj metodę `print`, tak aby wypisać wszystkie węzły w drzewie - skorzystaj z rekurencyjnego wywołania `print_node`. Gdy uda ci się to zrobić, zmodyfikuj metodę `print` tak, aby stosowała one wcięcia:\n",
    "\n",
    "```\n",
    "Game of Thrones\n",
    "  Season 1\n",
    "    Winter Is Coming\n",
    "    The Kingsroad\n",
    "    Lord Snow\n",
    "  Season 2\n",
    "    The North Remembers\n",
    "    The Night Lands\n",
    "    What Is Dead May Never Die\n",
    "```"
   ]
  },
  {
   "cell_type": "markdown",
   "metadata": {},
   "source": [
    "## Głębokość węzła\n",
    "\n",
    "Głębokość węzła w drzewie jest równa liczbie jego przodków z wyłączeniem siebie samego. Tak więc katalog `admin` z drzewa na <a href=\"#rys1\">rys. 1</a> ma głębokość 2, a katalog `/` ma głębokość 0. Do drzewa dopisz metodę `depth(self, node)`, która obliczy głębokość węzła."
   ]
  },
  {
   "cell_type": "markdown",
   "metadata": {},
   "source": [
    "## Wysokość drzewa\n",
    "\n",
    "Dla danego węzła możemy określić również jego wysokość. Jest ona równa najdłuższej ścieżce od tego wezła do najgłębiej położonego potomka tego węzła. Na <a href=\"rys1\">rys 1</a> liście `lib`, `student` i `jon` mają wysokość = 0, `users` ma wysokość 2, `/` ma wysokość 3. Wysokość węzła *w* można zdefiniować rekurencyjnie jako 1 + maksymalna wysokość synów *w*.  Do drzewa dopisz metodę `height(self, node)`, która obliczy wysokość węzła `node`."
   ]
  },
  {
   "cell_type": "markdown",
   "metadata": {},
   "source": [
    "# Drzewa binarne\n",
    "\n",
    "W drzewie binarym węzeł może mieć maksymalnie 2 synów: lewego (left) i prawego (rigth). Do poniższej implementacji dopisz metodę wypisującą zawartość drzewa (działającą tak samo jak dla wcześniejszego drzewa)."
   ]
  },
  {
   "cell_type": "code",
   "execution_count": 8,
   "metadata": {
    "collapsed": false
   },
   "outputs": [
    {
     "name": "stdout",
     "output_type": "stream",
     "text": [
      "Zaimplementuj mnie\n"
     ]
    }
   ],
   "source": [
    "class BNode:\n",
    "    def __init__(self, data):\n",
    "        self.data = data\n",
    "        self.parent = None\n",
    "        self.left = None\n",
    "        self.right = None\n",
    "        \n",
    "    def set_left(self, node):\n",
    "        if node is not None:\n",
    "            node.parent = self\n",
    "        self.left = node\n",
    "        return node\n",
    "\n",
    "    def set_right(self, node):\n",
    "        if node is not None:\n",
    "            node.parent = self\n",
    "        self.right = node\n",
    "        return node\n",
    "        \n",
    "    def is_leaf(self):\n",
    "        return self.left is None and self.rigth is None\n",
    "    \n",
    "    \n",
    "class BinaryTree:\n",
    "    def __init__(self, root = None):\n",
    "        self._root = root\n",
    "        \n",
    "    def root(self):\n",
    "        # zwraca korzen drzewa\n",
    "        return self._root\n",
    "    \n",
    "    def print(self):\n",
    "        # TODO: napisz metodę wypisującą drzewo binarne\n",
    "        print(\"Zaimplementuj mnie\")\n",
    "        \n",
    "tree = BinaryTree(BNode('a'))\n",
    "nodeB = tree.root().set_left(BNode('b'))\n",
    "nodeC = tree.root().set_right(BNode('c'))\n",
    "nodeD = nodeC.set_left(BNode('d'))\n",
    "                       \n",
    "tree.print()"
   ]
  },
  {
   "cell_type": "markdown",
   "metadata": {},
   "source": [
    "## Przechodzenie przez drzewo w głąb\n",
    "\n",
    "Przechodzenie przez drzewo w głąb polega na odwiedzaniu węzła oraz jego synów. Wróżnia się 3 strategie przechodzenia w głąb:\n",
    "- pre-order (przejście wzdłużne) - najpierw odwiedzamy korzeń, a następnie rekurencyjnie lewe i prawe poddrzewo\n",
    "- in-order (przejście poprzeczne) - najpierw odwiedź rekurencyjnie lewe poddrzewo, następnie korzeń, następnie rekurencyjnie prawe poddrzewo\n",
    "- post-order (przejście wsteczne) - odwiedź rekurencyjnie lewe i prawe poddrzewo, następnie korzeń\n",
    "\n",
    "Przykładowa implementacja:"
   ]
  },
  {
   "cell_type": "code",
   "execution_count": 10,
   "metadata": {
    "collapsed": true
   },
   "outputs": [],
   "source": [
    "    # ... pominięto poprzednią implementację BinaryTree\n",
    "    def pre_order_print(self, node):\n",
    "        if node is None:\n",
    "            node = self.root()\n",
    "            \n",
    "        print(node.data)\n",
    "        self.pre_oder_print(node.left)\n",
    "        self.pre_oder_print(node.right)"
   ]
  },
  {
   "cell_type": "markdown",
   "metadata": {},
   "source": [
    "Dodatkowo zaimplementuj przejscie in-order i post-order."
   ]
  },
  {
   "cell_type": "markdown",
   "metadata": {},
   "source": [
    "## Drzewo wyrażeń arytmetycznych\n",
    "\n",
    "Jednym z przykładowych zastosowań drzew binarych w informatyce jest obliczanie wyrażeń arytmetycznych. Poniższe drzewo reprezentuje wyrażenie `2*(3+(6/2))/4 `:\n",
    "\n",
    "<img src=\"http://codinghelmet.com/LoadFile.aspx?path=exercises/expression-evaluator&file=Tree1.png\" width=\"200\" />\n",
    "\n",
    "Na bazie klasy BinaryTree, stwórz nową klasę ExpressionTree, która umożliwiać będzie obliczanie wyniku dowolnego wyrażenia. Powyższy przykład powinien zostać zapisany jako:"
   ]
  },
  {
   "cell_type": "code",
   "execution_count": null,
   "metadata": {
    "collapsed": false
   },
   "outputs": [],
   "source": [
    "t = ExpressionTree(BNode('/'))\n",
    "\n",
    "# a reprezentuje poddrzewo: (2 * ...) / 4\n",
    "a = t.root().set_left(BNode('*'))\n",
    "a.set_left(BNode(2))\n",
    "# b reprezentuje poddrzewo: 3 + (6 / 2)\n",
    "b = a.set_right(BNode('+'))\n",
    "\n",
    "b.set_left(BNode(3))\n",
    "# c reprezentuje poddrzewo: 6 / 2\n",
    "c = b.set_right(BNode('/'))\n",
    "\n",
    "c.set_left(BNode(6))\n",
    "c.set_right(BNode(2))\n",
    "\n",
    "t.root().set_rigth(BNode(4))\n",
    "\n",
    "assert t.evaluate() == 3"
   ]
  },
  {
   "cell_type": "markdown",
   "metadata": {},
   "source": [
    "Zaimplementuj metodę `evaluate`, która przechodzi przez drzewo w głąb (rekurencyjnie) i dla danego węzła zwraca:\n",
    "- jeżeli węzeł przechowuje wartość liczbową, zwróć liczbę,\n",
    "- jeżeli w węźle jest operator (+,-,*,/), to oblicz wynik w lewym poddrzewie oraz w prawym poddrzewie a następnie zastosuj zwróć wynik działania operatora na wynikach z otrzymanych z poddrzew.\n"
   ]
  },
  {
   "cell_type": "markdown",
   "metadata": {},
   "source": [
    "Zaimplementuj metodę `print`, która wypisze wyrażenie zapisane w drzew w następującej, czytelnej dla człowieka, postaci:"
   ]
  },
  {
   "cell_type": "code",
   "execution_count": null,
   "metadata": {
    "collapsed": false
   },
   "outputs": [],
   "source": [
    "assert t.print() == '2*(3+(6/2))/4'"
   ]
  },
  {
   "cell_type": "markdown",
   "metadata": {},
   "source": [
    "## Obliczanie symbolicznych pochodnych\n",
    "\n",
    "Zastanów się w jaki sposób możnaby użyć drzewa wyrażeń do obliczania pochodnej wyrażenia zapisanego w postaci drzewa."
   ]
  }
 ],
 "metadata": {
  "kernelspec": {
   "display_name": "Python 3",
   "language": "python",
   "name": "python3"
  },
  "language_info": {
   "codemirror_mode": {
    "name": "ipython",
    "version": 3
   },
   "file_extension": ".py",
   "mimetype": "text/x-python",
   "name": "python",
   "nbconvert_exporter": "python",
   "pygments_lexer": "ipython3",
   "version": "3.5.2"
  }
 },
 "nbformat": 4,
 "nbformat_minor": 1
}
